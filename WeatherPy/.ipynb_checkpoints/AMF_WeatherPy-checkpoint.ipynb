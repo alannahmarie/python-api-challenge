{
 "cells": [
  {
   "cell_type": "markdown",
   "metadata": {},
   "source": [
    "# WeatherPy\n",
    "----\n",
    "\n",
    "#### Note\n",
    "* Instructions have been included for each segment. You do not have to follow them exactly, but they are included to help you think through the steps."
   ]
  },
  {
   "cell_type": "code",
   "execution_count": 1,
   "metadata": {
    "scrolled": true
   },
   "outputs": [],
   "source": [
    "# Dependencies and Setup\n",
    "import matplotlib.pyplot as plt\n",
    "import pandas as pd\n",
    "import numpy as np\n",
    "import requests\n",
    "import json\n",
    "import time\n",
    "from scipy.stats import linregress\n",
    "from collections import Counter\n",
    "\n",
    "# Import API key\n",
    "from api_keys import weather_api_key\n",
    "\n",
    "# Incorporated citipy to determine city based on latitude and longitude\n",
    "from citipy import citipy\n",
    "\n",
    "# Output File (CSV)\n",
    "output_data_file = \"cities.csv\"\n",
    "\n",
    "# Range of latitudes and longitudes\n",
    "lat_range = (-90, 90)\n",
    "lng_range = (-180, 180)"
   ]
  },
  {
   "cell_type": "markdown",
   "metadata": {},
   "source": [
    "## Generate Cities List"
   ]
  },
  {
   "cell_type": "code",
   "execution_count": 2,
   "metadata": {},
   "outputs": [
    {
     "data": {
      "text/plain": [
       "635"
      ]
     },
     "execution_count": 2,
     "metadata": {},
     "output_type": "execute_result"
    }
   ],
   "source": [
    "# List for holding lat_lngs and cities\n",
    "lat_lngs = []\n",
    "cities = []\n",
    "\n",
    "# Create a set of random lat and lng combinations\n",
    "lats = np.random.uniform(lat_range[0], lat_range[1], size=1500)\n",
    "lngs = np.random.uniform(lng_range[0], lng_range[1], size=1500)\n",
    "lat_lngs = zip(lats, lngs)\n",
    "            \n",
    "# Identify nearest city for each lat, lng combination\n",
    "for lat_lng in lat_lngs:\n",
    "    city = citipy.nearest_city(lat_lng[0], lat_lng[1]).city_name\n",
    "    \n",
    "    # If the city is unique, then add it to a our cities list\n",
    "    if city not in cities:\n",
    "        cities.append(city)\n",
    "\n",
    "# Print the city count to confirm sufficient count\n",
    "len(cities)"
   ]
  },
  {
   "cell_type": "markdown",
   "metadata": {},
   "source": [
    "### Perform API Calls\n",
    "* Perform a weather check on each city using a series of successive API calls.\n",
    "* Include a print log of each city as it'sbeing processed (with the city number and city name).\n"
   ]
  },
  {
   "cell_type": "code",
   "execution_count": null,
   "metadata": {
    "scrolled": false
   },
   "outputs": [],
   "source": [
    "lilcities = ['castro', 'viedma', 'taolanaro', 'hilo', 'rikitea', 'yellowknife']\n",
    "found_cities = []\n",
    "latitude = [] \n",
    "longitude = []\n",
    "humidity = []\n",
    "temperature = []\n",
    "cloudiness = []\n",
    "wind_speed = []\n",
    "\n",
    "dumped_cities = []\n",
    "\n",
    "# For temperature in Farenheit\n",
    "units = \"&units=imperial\"\n",
    "\n",
    "for city in cities:\n",
    "    url = \"http://api.openweathermap.org/data/2.5/weather?q=\"\n",
    "    query_url = url + city + units + \"&appid=\" + weather_api_key\n",
    "    try:\n",
    "        response = requests.get(query_url).json()\n",
    "        latitude.append(response['coord']['lat'])\n",
    "        longitude.append(response['coord']['lon'])\n",
    "        humidity.append(response['main']['humidity'])\n",
    "        temperature.append(response['main']['temp_max'])\n",
    "        cloudiness.append(response['clouds']['all'])\n",
    "        wind_speed.append(response['wind']['speed'])\n",
    "        found_cities.append(city)\n",
    "    except:\n",
    "        dumped_cities.append(city)"
   ]
  },
  {
   "cell_type": "code",
   "execution_count": null,
   "metadata": {},
   "outputs": [],
   "source": [
    "print(f\"The original list included {len(cities)} cities.\")\n",
    "print(f\"Of those cities, {len(found_cities)} were found in the OpenWeather API and {len(dumped_cities)} were not found.\")"
   ]
  },
  {
   "cell_type": "markdown",
   "metadata": {},
   "source": [
    "### Convert Raw Data to DataFrame\n",
    "* Export the city data into a .csv.\n",
    "* Display the DataFrame"
   ]
  },
  {
   "cell_type": "code",
   "execution_count": null,
   "metadata": {},
   "outputs": [],
   "source": [
    "city_data = pd.DataFrame({\n",
    "    \"City\": found_cities,\n",
    "    \"Latitude\": latitude,\n",
    "    \"Longitude\": longitude,\n",
    "    \"Humidity\": humidity,\n",
    "    \"Max Temperature\": temperature,\n",
    "    \"Cloudiness\": cloudiness,\n",
    "    \"Wind Speed\": wind_speed\n",
    "            })"
   ]
  },
  {
   "cell_type": "code",
   "execution_count": null,
   "metadata": {},
   "outputs": [],
   "source": [
    "city_data[\"City\"] = city_data[\"City\"].str.title() \n",
    "city_data"
   ]
  },
  {
   "cell_type": "markdown",
   "metadata": {},
   "source": [
    "## Inspect the data and remove the cities where the humidity > 100%.\n",
    "----\n",
    "Skip this step if there are no cities that have humidity > 100%. "
   ]
  },
  {
   "cell_type": "code",
   "execution_count": null,
   "metadata": {},
   "outputs": [],
   "source": [
    "high_humidity = city_data.loc[city_data[\"Humidity\"] > 100]"
   ]
  },
  {
   "cell_type": "code",
   "execution_count": null,
   "metadata": {},
   "outputs": [],
   "source": [
    "#  Get the indices of cities that have humidity over 100%.\n",
    "print(\"There are no cities with humidity over 100%\")"
   ]
  },
  {
   "cell_type": "code",
   "execution_count": null,
   "metadata": {},
   "outputs": [],
   "source": [
    "# Make a new DataFrame equal to the city data to drop all humidity outliers by index.\n",
    "# Passing \"inplace=False\" will make a copy of the city_data DataFrame, which we call \"clean_city_data\".\n"
   ]
  },
  {
   "cell_type": "code",
   "execution_count": null,
   "metadata": {},
   "outputs": [],
   "source": [
    "\n"
   ]
  },
  {
   "cell_type": "markdown",
   "metadata": {},
   "source": [
    "## Plotting the Data\n",
    "* Use proper labeling of the plots using plot titles (including date of analysis) and axes labels.\n",
    "* Save the plotted figures as .pngs."
   ]
  },
  {
   "cell_type": "markdown",
   "metadata": {},
   "source": [
    "## Latitude vs. Temperature Plot"
   ]
  },
  {
   "cell_type": "code",
   "execution_count": null,
   "metadata": {
    "scrolled": false
   },
   "outputs": [],
   "source": [
    "plt.figure(figsize=(12, 8))\n",
    "plt.scatter(city_data[\"Latitude\"], city_data[\"Max Temperature\"], marker=\"o\", facecolors=\"cornflowerblue\", \\\n",
    "            cmap=city_data[\"Max Temperature\"], edgecolors=\"black\", alpha=0.75)\n",
    "plt.title(\"City Latitude vs. Max Temperature (F)\")\n",
    "plt.xlabel(\"\\n Latitude\")\n",
    "plt.ylabel(\"Max Temperature (F)\")\n",
    "plt.grid()\n",
    "plt.show()"
   ]
  },
  {
   "cell_type": "markdown",
   "metadata": {},
   "source": [
    "## Latitude vs. Humidity Plot"
   ]
  },
  {
   "cell_type": "code",
   "execution_count": null,
   "metadata": {},
   "outputs": [],
   "source": [
    "plt.figure(figsize=(12, 8))\n",
    "plt.scatter(city_data[\"Latitude\"], city_data[\"Humidity\"], marker=\"o\", facecolors=\"cornflowerblue\", \\\n",
    "            cmap=city_data[\"Humidity\"], edgecolors=\"black\", alpha=0.75)\n",
    "plt.title(\"City Latitude vs. Humidity\")\n",
    "plt.xlabel(\"\\n Latitude\")\n",
    "plt.ylabel(\"Humidity\")\n",
    "plt.grid()\n",
    "plt.show()"
   ]
  },
  {
   "cell_type": "markdown",
   "metadata": {},
   "source": [
    "## Latitude vs. Cloudiness Plot"
   ]
  },
  {
   "cell_type": "code",
   "execution_count": null,
   "metadata": {},
   "outputs": [],
   "source": [
    "plt.figure(figsize=(12, 8))\n",
    "plt.scatter(city_data[\"Latitude\"], city_data[\"Cloudiness\"], marker=\"o\", facecolors=\"cornflowerblue\", \\\n",
    "            cmap=city_data[\"Cloudiness\"], edgecolors=\"black\", alpha=0.75)\n",
    "plt.title(\"City Latitude vs. Cloudiness\")\n",
    "plt.xlabel(\"\\n Latitude\")\n",
    "plt.ylabel(\"Cloudiness\")\n",
    "plt.grid()\n",
    "plt.show()"
   ]
  },
  {
   "cell_type": "markdown",
   "metadata": {},
   "source": [
    "## Latitude vs. Wind Speed Plot"
   ]
  },
  {
   "cell_type": "code",
   "execution_count": null,
   "metadata": {},
   "outputs": [],
   "source": [
    "plt.figure(figsize=(12, 8))\n",
    "plt.scatter(city_data[\"Latitude\"], city_data[\"Wind Speed\"], marker=\"o\", facecolors=\"cornflowerblue\", \\\n",
    "            cmap=city_data[\"Wind Speed\"], edgecolors=\"black\", alpha=0.75)\n",
    "plt.title(\"City Latitude vs. Wind Speed\")\n",
    "plt.xlabel(\"\\n Latitude\")\n",
    "plt.ylabel(\"Wind Speed\")\n",
    "plt.grid()\n",
    "plt.show()"
   ]
  },
  {
   "cell_type": "markdown",
   "metadata": {},
   "source": [
    "## Linear Regression"
   ]
  },
  {
   "cell_type": "code",
   "execution_count": null,
   "metadata": {},
   "outputs": [],
   "source": [
    "# Setting variables for the Southern and Northern Hemispheres\n",
    "southern = city_data.loc[city_data[\"Latitude\"] < 0.0]\n",
    "northern = city_data.loc[city_data[\"Latitude\"] > 0.0]"
   ]
  },
  {
   "cell_type": "markdown",
   "metadata": {},
   "source": [
    "####  Northern Hemisphere - Max Temp vs. Latitude Linear Regression"
   ]
  },
  {
   "cell_type": "code",
   "execution_count": null,
   "metadata": {},
   "outputs": [],
   "source": [
    "x_values = northern[\"Latitude\"]\n",
    "y_values = northern[\"Max Temperature\"]\n",
    "\n",
    "(slope, intercept, rvalue, pvalue, stderr) = linregress(x_values, y_values)\n",
    "regress_values = x_values * slope + intercept\n",
    "line_eq = \"y = \" + str(round(slope,2)) + \"x + \" + str(round(intercept,2))\n",
    "plt.figure(figsize=(12, 8))\n",
    "plt.scatter(x_values,y_values)\n",
    "plt.plot(x_values,regress_values,\"r-\")\n",
    "plt.annotate(line_eq,(21,40),fontsize=18,color=\"red\")\n",
    "plt.xlabel(\" \\n Latitude\", fontsize=13)\n",
    "plt.ylabel(\"Max Temperature (F) \\n \", fontsize=13)\n",
    "plt.title(\"Northern Hemisphere \\n Max Temp vs. Latitude Linear Regression\", fontsize=14)\n",
    "plt.tight_layout()\n",
    "\n",
    "print(f\"The r-value is: {rvalue}\")\n",
    "plt.show()\n"
   ]
  },
  {
   "cell_type": "markdown",
   "metadata": {},
   "source": [
    "####  Southern Hemisphere - Max Temp vs. Latitude Linear Regression"
   ]
  },
  {
   "cell_type": "code",
   "execution_count": null,
   "metadata": {},
   "outputs": [],
   "source": [
    "x_values = southern[\"Latitude\"]\n",
    "y_values = southern[\"Max Temperature\"]\n",
    "\n",
    "(slope, intercept, rvalue, pvalue, stderr) = linregress(x_values, y_values)\n",
    "regress_values = x_values * slope + intercept\n",
    "line_eq = \"y = \" + str(round(slope,2)) + \"x + \" + str(round(intercept,2))\n",
    "\n",
    "plt.figure(figsize=(12, 8))\n",
    "plt.scatter(x_values,y_values)\n",
    "plt.plot(x_values,regress_values,\"r-\")\n",
    "plt.annotate(line_eq,(-37, 77),fontsize=18,color=\"red\")\n",
    "plt.xlabel(\" \\n Latitude\", fontsize=13)\n",
    "plt.ylabel(\"Max Temperature (F) \\n \", fontsize=13)\n",
    "plt.title(\"Southern Hemisphere \\n Max Temp vs. Latitude Linear Regression\", fontsize=14)\n",
    "\n",
    "print(f\"The r-value is: {rvalue}\")\n",
    "plt.show()"
   ]
  },
  {
   "cell_type": "markdown",
   "metadata": {},
   "source": [
    "####  Northern Hemisphere - Humidity (%) vs. Latitude Linear Regression"
   ]
  },
  {
   "cell_type": "code",
   "execution_count": null,
   "metadata": {},
   "outputs": [],
   "source": [
    "x_values = northern[\"Latitude\"]\n",
    "y_values = northern[\"Humidity\"]\n",
    "\n",
    "(slope, intercept, rvalue, pvalue, stderr) = linregress(x_values, y_values)\n",
    "regress_values = x_values * slope + intercept\n",
    "line_eq = \"y = \" + str(round(slope,2)) + \"x + \" + str(round(intercept,2))\n",
    "plt.figure(figsize=(12, 8))\n",
    "plt.scatter(x_values,y_values)\n",
    "plt.plot(x_values,regress_values,\"r-\")\n",
    "plt.annotate(line_eq,(21,62),fontsize=18,color=\"red\")\n",
    "plt.xlabel(\" \\n Latitude\", fontsize=13)\n",
    "plt.ylabel(\"Humidity (%) \\n \", fontsize=13)\n",
    "plt.title(\"Northern Hemisphere \\n Humidity vs. Latitude Linear Regression\", fontsize=14)\n",
    "plt.tight_layout()\n",
    "\n",
    "print(f\"The r-value is: {rvalue}\")\n",
    "plt.show()"
   ]
  },
  {
   "cell_type": "markdown",
   "metadata": {},
   "source": [
    "####  Southern Hemisphere - Humidity (%) vs. Latitude Linear Regression"
   ]
  },
  {
   "cell_type": "code",
   "execution_count": null,
   "metadata": {},
   "outputs": [],
   "source": [
    "x_values = southern[\"Latitude\"]\n",
    "y_values = southern[\"Humidity\"]\n",
    "\n",
    "(slope, intercept, rvalue, pvalue, stderr) = linregress(x_values, y_values)\n",
    "regress_values = x_values * slope + intercept\n",
    "line_eq = \"y = \" + str(round(slope,2)) + \"x + \" + str(round(intercept,2))\n",
    "plt.figure(figsize=(12, 8))\n",
    "plt.scatter(x_values,y_values)\n",
    "plt.plot(x_values,regress_values,\"r-\")\n",
    "plt.annotate(line_eq,(-35,65),fontsize=18,color=\"red\")\n",
    "plt.xlabel(\" \\n Latitude\", fontsize=13)\n",
    "plt.ylabel(\"Humidity (%) \\n \", fontsize=13)\n",
    "plt.title(\"Southern Hemisphere \\n Humidity vs. Latitude Linear Regression\", fontsize=14)\n",
    "plt.tight_layout()\n",
    "\n",
    "print(f\"The r-value is: {rvalue}\")\n",
    "plt.show()"
   ]
  },
  {
   "cell_type": "markdown",
   "metadata": {},
   "source": [
    "####  Northern Hemisphere - Cloudiness (%) vs. Latitude Linear Regression"
   ]
  },
  {
   "cell_type": "code",
   "execution_count": null,
   "metadata": {},
   "outputs": [],
   "source": [
    "x_values = northern[\"Latitude\"]\n",
    "y_values = northern[\"Cloudiness\"]\n",
    "\n",
    "(slope, intercept, rvalue, pvalue, stderr) = linregress(x_values, y_values)\n",
    "regress_values = x_values * slope + intercept\n",
    "line_eq = \"y = \" + str(round(slope,2)) + \"x + \" + str(round(intercept,2))\n",
    "plt.figure(figsize=(12, 8))\n",
    "plt.scatter(x_values,y_values)\n",
    "plt.plot(x_values,regress_values,\"r-\")\n",
    "plt.annotate(line_eq,(30,1.003),fontsize=18,color=\"red\")\n",
    "plt.xlabel(\" \\n Latitude\", fontsize=13)\n",
    "plt.ylabel(\"Cloudiness \\n \", fontsize=13)\n",
    "plt.title(\"Northern Hemisphere \\n Cloudiness vs. Latitude Linear Regression\", fontsize=14)\n",
    "\n",
    "print(f\"The r-value is: {rvalue}\")\n",
    "plt.show()"
   ]
  },
  {
   "cell_type": "markdown",
   "metadata": {},
   "source": [
    "####  Southern Hemisphere - Cloudiness (%) vs. Latitude Linear Regression"
   ]
  },
  {
   "cell_type": "code",
   "execution_count": null,
   "metadata": {},
   "outputs": [],
   "source": [
    "x_values = southern[\"Latitude\"]\n",
    "y_values = southern[\"Cloudiness\"]\n",
    "\n",
    "(slope, intercept, rvalue, pvalue, stderr) = linregress(x_values, y_values)\n",
    "regress_values = x_values * slope + intercept\n",
    "line_eq = \"y = \" + str(round(slope,2)) + \"x + \" + str(round(intercept,2))\n",
    "plt.figure(figsize=(12, 8))\n",
    "plt.scatter(x_values,y_values)\n",
    "plt.plot(x_values,regress_values,\"r-\")\n",
    "plt.annotate(line_eq,(-35,60),fontsize=18,color=\"red\")\n",
    "plt.xlabel(\" \\n Latitude\", fontsize=13)\n",
    "plt.ylabel(\"Cloudiness \\n \", fontsize=13)\n",
    "plt.title(\"Southern Hemisphere \\n Cloudiness vs. Latitude Linear Regression\", fontsize=14)\n",
    "plt.tight_layout()\n",
    "\n",
    "print(f\"The r-value is: {rvalue}\")\n",
    "plt.show()"
   ]
  },
  {
   "cell_type": "markdown",
   "metadata": {},
   "source": [
    "####  Northern Hemisphere - Wind Speed (mph) vs. Latitude Linear Regression"
   ]
  },
  {
   "cell_type": "code",
   "execution_count": null,
   "metadata": {},
   "outputs": [],
   "source": [
    "x_values = northern[\"Latitude\"]\n",
    "y_values = northern[\"Wind Speed\"]\n",
    "\n",
    "(slope, intercept, rvalue, pvalue, stderr) = linregress(x_values, y_values)\n",
    "regress_values = x_values * slope + intercept\n",
    "line_eq = \"y = \" + str(round(slope,2)) + \"x + \" + str(round(intercept,2))\n",
    "plt.figure(figsize=(12, 8))\n",
    "plt.scatter(x_values,y_values)\n",
    "plt.plot(x_values,regress_values,\"r-\")\n",
    "plt.annotate(line_eq,(40,5),fontsize=18,color=\"red\")\n",
    "plt.xlabel(\" \\n Latitude\", fontsize=13)\n",
    "plt.ylabel(\"Wind Speed (mph) \\n \", fontsize=13)\n",
    "plt.title(\"Northern Hemisphere \\n Wind Speed (mph) vs. Latitude Linear Regression\", fontsize=14)\n",
    "plt.tight_layout()\n",
    "\n",
    "print(f\"The r-value is: {rvalue}\")\n",
    "plt.show()"
   ]
  },
  {
   "cell_type": "markdown",
   "metadata": {},
   "source": [
    "####  Southern Hemisphere - Wind Speed (mph) vs. Latitude Linear Regression"
   ]
  },
  {
   "cell_type": "code",
   "execution_count": null,
   "metadata": {},
   "outputs": [],
   "source": [
    "x_values = southern[\"Latitude\"]\n",
    "y_values = southern[\"Wind Speed\"]\n",
    "\n",
    "(slope, intercept, rvalue, pvalue, stderr) = linregress(x_values, y_values)\n",
    "regress_values = x_values * slope + intercept\n",
    "line_eq = \"y = \" + str(round(slope,2)) + \"x + \" + str(round(intercept,2))\n",
    "plt.figure(figsize=(12, 8))\n",
    "plt.scatter(x_values,y_values)\n",
    "plt.plot(x_values,regress_values,\"r-\")\n",
    "plt.annotate(line_eq,(-35,8),fontsize=18,color=\"red\")\n",
    "plt.xlabel(\" \\n Latitude\", fontsize=13)\n",
    "plt.ylabel(\"Wind Speed (mph) \\n \", fontsize=13)\n",
    "plt.title(\"Southern Hemisphere \\n Wind Speed (mph) vs. Latitude Linear Regression\", fontsize=14)\n",
    "plt.tight_layout()\n",
    "\n",
    "print(f\"The r-value is: {rvalue}\")\n",
    "plt.show()"
   ]
  },
  {
   "cell_type": "code",
   "execution_count": null,
   "metadata": {},
   "outputs": [],
   "source": []
  }
 ],
 "metadata": {
  "anaconda-cloud": {},
  "kernel_info": {
   "name": "python3"
  },
  "kernelspec": {
   "display_name": "Python [conda env:PythonData] *",
   "language": "python",
   "name": "conda-env-PythonData-py"
  },
  "language_info": {
   "codemirror_mode": {
    "name": "ipython",
    "version": 3
   },
   "file_extension": ".py",
   "mimetype": "text/x-python",
   "name": "python",
   "nbconvert_exporter": "python",
   "pygments_lexer": "ipython3",
   "version": "3.6.10"
  },
  "latex_envs": {
   "LaTeX_envs_menu_present": true,
   "autoclose": false,
   "autocomplete": true,
   "bibliofile": "biblio.bib",
   "cite_by": "apalike",
   "current_citInitial": 1,
   "eqLabelWithNumbers": true,
   "eqNumInitial": 1,
   "hotkeys": {
    "equation": "Ctrl-E",
    "itemize": "Ctrl-I"
   },
   "labels_anchors": false,
   "latex_user_defs": false,
   "report_style_numbering": false,
   "user_envs_cfg": false
  },
  "nteract": {
   "version": "0.12.3"
  }
 },
 "nbformat": 4,
 "nbformat_minor": 2
}
